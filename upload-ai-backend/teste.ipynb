{
 "cells": [
  {
   "cell_type": "code",
   "execution_count": 3,
   "metadata": {},
   "outputs": [
    {
     "name": "stdout",
     "output_type": "stream",
     "text": [
      "File uploaded successfully {'name': 'mp4_file_2', 'path': 'C:\\\\Users\\\\kevyc\\\\OneDrive\\\\Documentos\\\\Projects\\\\reactStudies\\\\upload-ai-web\\\\upload-ai-backend\\\\tmp\\\\mp4_file_2-7181059a-a56a-4a33-853d-7bf8654440ba.mp3'}\n"
     ]
    }
   ],
   "source": [
    "import requests\n",
    "\n",
    "# URL da sua API Flask\n",
    "url = 'http://localhost:5000/videos'  # Substitua pelo endereço da sua API\n",
    "\n",
    "# Nome do arquivo local que você deseja carregar\n",
    "file_name = 'file.mp3'\n",
    "\n",
    "# Abra o arquivo em modo de leitura binária\n",
    "with open(file_name, 'rb') as file:\n",
    "    # Crie um dicionário de dados para incluir o arquivo no POST\n",
    "    files = {'file': (file_name, file)}\n",
    "\n",
    "    # Faça o POST para a API\n",
    "    response = requests.post(url, files=files)\n",
    "\n",
    "# Verifique a resposta da API\n",
    "if response.status_code == 200:\n",
    "    print(\"File uploaded successfully\", response.json())\n",
    "else:\n",
    "    print(f\"Failed to upload file. Status code: {response.status_code}\")\n"
   ]
  },
  {
   "cell_type": "code",
   "execution_count": null,
   "metadata": {},
   "outputs": [],
   "source": []
  }
 ],
 "metadata": {
  "kernelspec": {
   "display_name": "Python 3",
   "language": "python",
   "name": "python3"
  },
  "language_info": {
   "codemirror_mode": {
    "name": "ipython",
    "version": 3
   },
   "file_extension": ".py",
   "mimetype": "text/x-python",
   "name": "python",
   "nbconvert_exporter": "python",
   "pygments_lexer": "ipython3",
   "version": "3.8.10"
  },
  "orig_nbformat": 4
 },
 "nbformat": 4,
 "nbformat_minor": 2
}
